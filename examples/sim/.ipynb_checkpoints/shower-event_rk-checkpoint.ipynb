{
 "cells": [
  {
   "cell_type": "markdown",
   "metadata": {},
   "source": [
    "# shower-event.py\n",
    "https://github.com/grand-mother/grand/blob/master/examples/simulation/shower-event.py\n",
    "\n",
    "In this example we compute the voltage at antenna output for a given simulated shower. This consist basically in a scalar product between the Efield vector and the antenna effective length, the complex vectorial information encoding the antenna response:\n",
    "$$ V = \\vec{E} \\cdot \\vec{l_{eff}}$$\n",
    "\n",
    "More details on the effective length & voltage computation can be found in particular here: https://github.com/grand-mother/hands_on/blob/master/GRANDscripts/GRANDscripts.pdf"
   ]
  },
  {
   "cell_type": "markdown",
   "metadata": {},
   "source": [
    "\n",
    "\n",
    "\n",
    "\n",
    "First we import relevant packages.\n",
    "\n",
    "\n"
   ]
  },
  {
   "cell_type": "code",
   "execution_count": 1,
   "metadata": {},
   "outputs": [],
   "source": [
    "#! /usr/bin/env python\n",
    "import numpy as np\n",
    "from matplotlib import pyplot as plt\n",
    "from grand import LTP"
   ]
  },
  {
   "cell_type": "markdown",
   "metadata": {},
   "source": [
    "From GRAND, most important modules are Antenna (https://github.com/grand-mother/grand/blob/master/grand/simulation/antenna/generic.py) and ShowerEvent (https://github.com/grand-mother/grand/blob/master/examples/simulation/shower-event.py). \n",
    "\n",
    "Two important remarks:\n",
    "- For the purpose of illustration in this example, jupyter notebooks defining these classes are used here for these classes rather than their (standard) python implementation. This allows additionnal printing & plotting.\n",
    "- \"Kernel restart\" is necessary if you want any modification that you may apply for test purposes to these notebooks to be taken into account. "
   ]
  },
  {
   "cell_type": "code",
   "execution_count": null,
   "metadata": {},
   "outputs": [],
   "source": [
    "%matplotlib notebook\n",
    "from grand.simulation import Antenna, ShowerEvent, TabulatedAntennaModel\n",
    "\n",
    "## Import notebooks derived from the standard scripts\n",
    "from ipynb.fs.full.antenna import *\n",
    "from ipynb.fs.full.tabulated import *\n",
    "from ipynb.fs.full.shower_generic import *\n",
    "\n",
    "#from ipynb.fs.full.zhaires import *\n",
    "#%matplotlib notebook"
   ]
  },
  {
   "cell_type": "markdown",
   "metadata": {},
   "source": [
    "Now we load the Shower object from the (Zhaires) example file, available through this command: \n",
    "\n",
    "> wget https://github.com/grand-mother/store/releases/download/101/zhaires-test.tar.gz\n",
    "\n",
    "Note: the method to load the object directly from sim output is only temporary. Soon enough this will be replaced through readuing from a (standardized) simulation file (HDF5 or ROOT)."
   ]
  },
  {
   "cell_type": "code",
   "execution_count": 3,
   "metadata": {},
   "outputs": [
    {
     "name": "stdout",
     "output_type": "stream",
     "text": [
      "### zhaires.py: reading groundaltitude from. inp file.\n",
      "---------------------------------\n",
      "Zenith (Zhaires?!) = 85.2\n",
      "Azimuth (Zhaires?!) = 0.0\n",
      "Xmax= [150750.      0.  15560.]\n",
      "Core= [   0.    0. 2900.]\n",
      "obstime= 2019-10-31 00:00:00 \n",
      "\n",
      "Shower frame:\n",
      "{'location': ECEF([[-202152.61540589],\n",
      "      [4968285.91242108],\n",
      "      [3981091.07392567]]), 'basis': array([[ 0.01295558, -0.62749801,  0.77851037],\n",
      "       [ 0.99941496,  0.03277239,  0.00978356],\n",
      "       [-0.03165281,  0.77792815,  0.62755548]]), 'orientation': 'NWU', 'magnetic': True, 'declination': 0.72, 'magmodel': 'IGRF13', 'obstime': datetime.datetime(2019, 10, 31, 0, 0)}\n"
     ]
    }
   ],
   "source": [
    "# Load the radio shower simulation data\n",
    "shower = ShowerEvent.load('../../tests/simulation/data/zhaires')\n",
    "\n",
    "'''print(\"Shower framinp['core']e=\",shower.frame)\n",
    "print(\"Zenith (Zhaires conv) =\",shower.zenith)\n",
    "print(\"Azimuth (Zhaires conv) =\",shower.azimuth)\n",
    "print(\"Xmax=\",shower.maximum)\n",
    "#shower.core=CartesianRepresentation(0, 0, 2900, unit='m')\n",
    "print(\"Core=\",shower.core)'''\n",
    "\n",
    "print('---------------------------------')\n",
    "print(\"Zenith (Zhaires?!) =\",shower.zenith)\n",
    "print(\"Azimuth (Zhaires?!) =\",shower.azimuth)\n",
    "print(\"Xmax=\",shower.maximum.flatten())\n",
    "print(\"Core=\",shower.core.flatten())\n",
    "print(\"obstime=\", shower.frame.obstime, '\\n')\n",
    "print(\"Shower frame:\")\n",
    "print(vars(shower.frame))\n"
   ]
  },
  {
   "cell_type": "markdown",
   "metadata": {},
   "source": [
    "The shower is associated with a Local Tangeant Plane frame centered on the shower core. Hence the Xmax altitude given here is the height above ground, and not above sea level.\n",
    "\n",
    "Note: using ground altitude at the reference might not be the most natural choice. Sea level is probably more convenient (and less error-prone!)"
   ]
  },
  {
   "cell_type": "markdown",
   "metadata": {},
   "source": [
    "Now we load the Antenna model, which contains the effective length information, under the form of 4 matrixes (modulus and phase for the 2 componants $l_{eff}^{\\theta}$ and $l_{eff}^{\\phi}$) with 3 dimensions (frequency, zenith, angle). \n",
    "\n",
    "This is done here: https://github.com/grand-mother/grand/blob/be5333a4abfd0f0c0b30835e65c689bfcc798f04/grand/simulation/antenna/tabulated.py#L47\n"
   ]
  },
  {
   "cell_type": "code",
   "execution_count": 4,
   "metadata": {},
   "outputs": [],
   "source": [
    "# Define an antenna model\n",
    "#\n",
    "# A tabulated model of the Butterfly antenna is used. Note that a single EW\n",
    "# arm is assumed here for the sake of simplicity\n",
    "\n",
    "antenna_model = TabulatedAntennaModel.load('./HorizonAntenna_EWarm_leff_loaded.npy')"
   ]
  },
  {
   "cell_type": "markdown",
   "metadata": {},
   "source": [
    "We then loop on all antennas.\n",
    "\n",
    "antenna.computevoltage is called with parameters:\n",
    "- direction = vector $\\vec{X_{max}X_{ant}}$\n",
    "- Electric field info at this antenna\n",
    "- antenna frame (LTP centered at antenna)\n",
    "\n",
    "In compute voltage, we do the following: \n",
    "- Convert the Efield timetraces ($E_x(t),E_y(t),E_z(t)$) expressed in the Efield frame, an LTP centered @ core) in the frequency domain through FFT\n",
    "- Compute the Leff values for the direction \"direction\" where the radiation comes from. These are interpolatted from tabulated values in https://github.com/grand-mother/grand/blob/be5333a4abfd0f0c0b30835e65c689bfcc798f04/grand/simulation/antenna/tabulated.py#L123.\n",
    "- Write the Leff vector in the E_field frame.\n",
    "- Perform the scalar product $\\vec{E} \\cdot \\vec{L_{eff}}$ in the frequency domain and come back to the time domain through inverse Fourier transform.\n",
    "\n",
    "Result is $V(t)$ for this (EW) antenna arm.\n"
   ]
  },
  {
   "cell_type": "code",
   "execution_count": null,
   "metadata": {
    "scrolled": false
   },
   "outputs": [
    {
     "name": "stdout",
     "output_type": "stream",
     "text": [
      "0 Antenna pos in shower frame [   0.    270.45 2900.  ]\n",
      "antenna pos LTP in shower frame:\n",
      "{'location': ECEF([[-202152.61540589],\n",
      "      [4968285.91242108],\n",
      "      [3981091.07392567]]), 'basis': array([[ 0.01295558, -0.62749801,  0.77851037],\n",
      "       [ 0.99941496,  0.03277239,  0.00978356],\n",
      "       [-0.03165281,  0.77792815,  0.62755548]]), 'orientation': 'NWU', 'magnetic': True, 'declination': 0.72, 'magmodel': 'IGRF13', 'obstime': datetime.datetime(2019, 10, 31, 0, 0)} [   0.    270.45 2900.  ]\n",
      "--------------------------------- \n",
      "\n",
      "antenna frame:\n",
      "{'location': ECEF([[-201974.11678087],\n",
      "      [4970550.76736107],\n",
      "      [3982913.63079562]]), 'basis': array([[ 0.01582394, -0.62740147,  0.77853517],\n",
      "       [ 0.99937499,  0.0345403 ,  0.00752257],\n",
      "       [-0.03161051,  0.77792954,  0.6275559 ]]), 'orientation': 'NWU', 'magnetic': True, 'declination': 0.5536012942405932, 'magmodel': 'IGRF13', 'obstime': datetime.datetime(2019, 10, 31, 0, 0)}\n",
      "--------------------------------- \n",
      "\n",
      "\n",
      "Vpp= 37.77485490214771 \n",
      "\n"
     ]
    },
    {
     "name": "stderr",
     "output_type": "stream",
     "text": [
      "/Users/rameshkoirala/Documents/GRAND/grand/grand/tools/coordinates.py:196: ComplexWarning: Casting complex values to real discards the imaginary part\n",
      "  obj[0] = x                    # replace x-coordinates with input x. x can be int, float, or ndarray.\n",
      "/Users/rameshkoirala/Documents/GRAND/grand/grand/tools/coordinates.py:197: ComplexWarning: Casting complex values to real discards the imaginary part\n",
      "  obj[1] = y                    # replace y-coordinates with input y. y can be int, float, or ndarray.\n",
      "/Users/rameshkoirala/Documents/GRAND/grand/grand/tools/coordinates.py:198: ComplexWarning: Casting complex values to real discards the imaginary part\n",
      "  obj[2] = z                    # replace z-coordinates with input z. z can be int, float, or ndarray.\n"
     ]
    },
    {
     "data": {
      "image/png": "[encoded data removed]",
      "text/plain": [
       "<Figure size 432x288 with 2 Axes>"
      ]
     },
     "metadata": {
      "needs_background": "light"
     },
     "output_type": "display_data"
    }
   ],
   "source": [
    "# Loop over electric fields and compute the corresponding voltages\n",
    "for antenna_index, field in shower.fields.items():\n",
    "\n",
    "    # Compute the antenna local frame\n",
    "    #\n",
    "    # The antenna is placed in the shower frame. It is oriented along the\n",
    "    # local magnetic North by using an NWU/LTP frame (x: North, y: West, z: Upward)\n",
    "    # RK: if antenna location was saved in LTP frame in zhaires.py, next step would not required.\n",
    "    antpos_wrt_shower= field.electric.r \n",
    "    antenna_location = LTP(x=antpos_wrt_shower.x, y=antpos_wrt_shower.y, \n",
    "                           z=antpos_wrt_shower.z, frame=shower.frame)\n",
    "    antenna_frame = LTP(location=antenna_location, orientation='NWU',\n",
    "                        magnetic=True, obstime=shower.frame.obstime)\n",
    "    antenna = Antenna(model=antenna_model, frame=antenna_frame)\n",
    "\n",
    "    print(antenna_index,\"Antenna pos in shower frame\", antpos_wrt_shower.flatten())\n",
    "    print(\"antenna pos LTP in shower frame:\")\n",
    "    print(vars(antenna_location), antenna_location.flatten())\n",
    "    print('---------------------------------', '\\n')\n",
    "    print('antenna frame:')\n",
    "    print(vars(antenna_frame))\n",
    "    print('---------------------------------', '\\n')\n",
    "    \n",
    "    # Compute the voltage on the antenna\n",
    "    #\n",
    "    # The electric field is assumed to be a plane-wave originating from the\n",
    "    # shower axis at the depth of maximum development. Note that the direction\n",
    "    # of observation and the electric field components are provided in the\n",
    "    # shower frame. This is indicated by the `frame` named argument.\n",
    "    Exyz = field.electric.E\n",
    "    \n",
    "    # Xmax, Efield, and input frame are all in shower frame.\n",
    "    field.voltage = antenna.compute_voltage(shower.maximum, field.electric, frame=shower.frame)\n",
    "\n",
    "    print(\"\\nVpp=\",max(field.voltage.V)-min(field.voltage.V), '\\n')\n",
    "\n",
    "    plt.figure()\n",
    "    plt.subplot(211)\n",
    "    plt.plot(field.electric.t,Exyz.x,label='Ex')\n",
    "    plt.plot(field.electric.t,Exyz.y,label='Ey')\n",
    "    plt.plot(field.electric.t,Exyz.z,label='Ez')\n",
    "    plt.xlabel('Time (ns)')\n",
    "    plt.ylabel(r'Efield ($\\mu$V/m)')\n",
    "    plt.legend(loc='best')\n",
    "    plt.subplot(212)\n",
    "    plt.plot(field.voltage.t,field.voltage.V,label='V$_{EW}$')\n",
    "    plt.xlabel('Time (ns)')\n",
    "    plt.ylabel(r'Voltage ($\\mu$V)')\n",
    "    plt.legend(loc='best')\n",
    "    plt.show()\n",
    "    \n",
    "    input(\"Type return for next antenna\")\n",
    "    \n"
   ]
  },
  {
   "cell_type": "code",
   "execution_count": null,
   "metadata": {},
   "outputs": [],
   "source": []
  }
 ],
 "metadata": {
  "celltoolbar": "Hide code",
  "kernelspec": {
   "display_name": "Python 3 (ipykernel)",
   "language": "python",
   "name": "python3"
  },
  "language_info": {
   "codemirror_mode": {
    "name": "ipython",
    "version": 3
   },
   "file_extension": ".py",
   "mimetype": "text/x-python",
   "name": "python",
   "nbconvert_exporter": "python",
   "pygments_lexer": "ipython3",
   "version": "3.9.5"
  }
 },
 "nbformat": 4,
 "nbformat_minor": 4
}
